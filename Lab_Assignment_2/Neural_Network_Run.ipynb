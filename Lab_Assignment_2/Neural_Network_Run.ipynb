{
  "cells": [
    {
      "cell_type": "code",
      "execution_count": 39,
      "metadata": {
        "colab": {
          "base_uri": "https://localhost:8080/"
        },
        "id": "p-YBSKA1HKRj",
        "outputId": "77587807-785a-4d56-f769-601bf0ed8ccd"
      },
      "outputs": [],
      "source": [
        "\n",
        "import keras\n",
        "import pandas as pd\n",
        "import matplotlib.pyplot as plt\n",
        "import csv\n",
        "import numpy as np\n",
        "import seaborn as sns\n",
        "from numpy import loadtxt\n",
        "from sklearn import preprocessing\n",
        "from sklearn.model_selection import train_test_split\n",
        "from keras.models import Sequential\n",
        "from keras.layers import Dense\n",
        "from keras.layers import LeakyReLU,PReLU,ELU\n",
        "from keras.layers import Dropout"
      ]
    },
    {
      "cell_type": "code",
      "execution_count": 40,
      "metadata": {
        "colab": {
          "base_uri": "https://localhost:8080/"
        },
        "id": "yhFnnrxrHcBR",
        "outputId": "5e286ee2-70f3-4ecd-8887-59513ac43fcd"
      },
      "outputs": [
        {
          "name": "stdout",
          "output_type": "stream",
          "text": [
            "   0    1   2   3    4     5      6   7  8\n",
            "0  6  148  72  35    0  33.6  0.627  50  1\n",
            "1  1   85  66  29    0  26.6  0.351  31  0\n",
            "2  8  183  64   0    0  23.3  0.672  32  1\n",
            "3  1   89  66  23   94  28.1  0.167  21  0\n",
            "4  0  137  40  35  168  43.1  2.288  33  1\n"
          ]
        }
      ],
      "source": [
        "dataset = pd.read_csv('F:\\\\OneDrive - Shahjalal University of Science and Technology\\\\Windows\\\\Desktop\\\\ML assignments\\\\nn_data.txt', header=None)\n",
        "\n",
        "\n",
        "print(dataset.head())"
      ]
    },
    {
      "cell_type": "code",
      "execution_count": 41,
      "metadata": {
        "colab": {
          "base_uri": "https://localhost:8080/",
          "height": 206
        },
        "id": "-VTTfaF6HxMU",
        "outputId": "d0536d4b-2c36-493b-fc9b-c0bf86950e81"
      },
      "outputs": [
        {
          "data": {
            "text/html": [
              "<div>\n",
              "<style scoped>\n",
              "    .dataframe tbody tr th:only-of-type {\n",
              "        vertical-align: middle;\n",
              "    }\n",
              "\n",
              "    .dataframe tbody tr th {\n",
              "        vertical-align: top;\n",
              "    }\n",
              "\n",
              "    .dataframe thead th {\n",
              "        text-align: right;\n",
              "    }\n",
              "</style>\n",
              "<table border=\"1\" class=\"dataframe\">\n",
              "  <thead>\n",
              "    <tr style=\"text-align: right;\">\n",
              "      <th></th>\n",
              "      <th>0</th>\n",
              "      <th>1</th>\n",
              "      <th>2</th>\n",
              "      <th>3</th>\n",
              "      <th>4</th>\n",
              "      <th>5</th>\n",
              "      <th>6</th>\n",
              "      <th>7</th>\n",
              "    </tr>\n",
              "  </thead>\n",
              "  <tbody>\n",
              "    <tr>\n",
              "      <th>0</th>\n",
              "      <td>6</td>\n",
              "      <td>148</td>\n",
              "      <td>72</td>\n",
              "      <td>35</td>\n",
              "      <td>0</td>\n",
              "      <td>33.6</td>\n",
              "      <td>0.627</td>\n",
              "      <td>50</td>\n",
              "    </tr>\n",
              "    <tr>\n",
              "      <th>1</th>\n",
              "      <td>1</td>\n",
              "      <td>85</td>\n",
              "      <td>66</td>\n",
              "      <td>29</td>\n",
              "      <td>0</td>\n",
              "      <td>26.6</td>\n",
              "      <td>0.351</td>\n",
              "      <td>31</td>\n",
              "    </tr>\n",
              "    <tr>\n",
              "      <th>2</th>\n",
              "      <td>8</td>\n",
              "      <td>183</td>\n",
              "      <td>64</td>\n",
              "      <td>0</td>\n",
              "      <td>0</td>\n",
              "      <td>23.3</td>\n",
              "      <td>0.672</td>\n",
              "      <td>32</td>\n",
              "    </tr>\n",
              "    <tr>\n",
              "      <th>3</th>\n",
              "      <td>1</td>\n",
              "      <td>89</td>\n",
              "      <td>66</td>\n",
              "      <td>23</td>\n",
              "      <td>94</td>\n",
              "      <td>28.1</td>\n",
              "      <td>0.167</td>\n",
              "      <td>21</td>\n",
              "    </tr>\n",
              "    <tr>\n",
              "      <th>4</th>\n",
              "      <td>0</td>\n",
              "      <td>137</td>\n",
              "      <td>40</td>\n",
              "      <td>35</td>\n",
              "      <td>168</td>\n",
              "      <td>43.1</td>\n",
              "      <td>2.288</td>\n",
              "      <td>33</td>\n",
              "    </tr>\n",
              "  </tbody>\n",
              "</table>\n",
              "</div>"
            ],
            "text/plain": [
              "   0    1   2   3    4     5      6   7\n",
              "0  6  148  72  35    0  33.6  0.627  50\n",
              "1  1   85  66  29    0  26.6  0.351  31\n",
              "2  8  183  64   0    0  23.3  0.672  32\n",
              "3  1   89  66  23   94  28.1  0.167  21\n",
              "4  0  137  40  35  168  43.1  2.288  33"
            ]
          },
          "execution_count": 41,
          "metadata": {},
          "output_type": "execute_result"
        }
      ],
      "source": [
        "X = dataset.iloc[:,0:8]\n",
        "y = dataset.iloc[:,8]\n",
        "\n",
        "X.head()"
      ]
    },
    {
      "cell_type": "markdown",
      "metadata": {
        "id": "SUBKp5pAIEI6"
      },
      "source": [
        "**Data Normalize(Scaling)**"
      ]
    },
    {
      "cell_type": "code",
      "execution_count": 42,
      "metadata": {
        "colab": {
          "base_uri": "https://localhost:8080/",
          "height": 206
        },
        "id": "FQu62Av-IDBb",
        "outputId": "89745898-0faa-4a59-b492-dd811d0f854d"
      },
      "outputs": [
        {
          "data": {
            "text/html": [
              "<div>\n",
              "<style scoped>\n",
              "    .dataframe tbody tr th:only-of-type {\n",
              "        vertical-align: middle;\n",
              "    }\n",
              "\n",
              "    .dataframe tbody tr th {\n",
              "        vertical-align: top;\n",
              "    }\n",
              "\n",
              "    .dataframe thead th {\n",
              "        text-align: right;\n",
              "    }\n",
              "</style>\n",
              "<table border=\"1\" class=\"dataframe\">\n",
              "  <thead>\n",
              "    <tr style=\"text-align: right;\">\n",
              "      <th></th>\n",
              "      <th>0</th>\n",
              "      <th>1</th>\n",
              "      <th>2</th>\n",
              "      <th>3</th>\n",
              "      <th>4</th>\n",
              "      <th>5</th>\n",
              "      <th>6</th>\n",
              "      <th>7</th>\n",
              "    </tr>\n",
              "  </thead>\n",
              "  <tbody>\n",
              "    <tr>\n",
              "      <th>0</th>\n",
              "      <td>0.352941</td>\n",
              "      <td>0.743719</td>\n",
              "      <td>0.590164</td>\n",
              "      <td>0.353535</td>\n",
              "      <td>0.000000</td>\n",
              "      <td>0.500745</td>\n",
              "      <td>0.234415</td>\n",
              "      <td>0.483333</td>\n",
              "    </tr>\n",
              "    <tr>\n",
              "      <th>1</th>\n",
              "      <td>0.058824</td>\n",
              "      <td>0.427136</td>\n",
              "      <td>0.540984</td>\n",
              "      <td>0.292929</td>\n",
              "      <td>0.000000</td>\n",
              "      <td>0.396423</td>\n",
              "      <td>0.116567</td>\n",
              "      <td>0.166667</td>\n",
              "    </tr>\n",
              "    <tr>\n",
              "      <th>2</th>\n",
              "      <td>0.470588</td>\n",
              "      <td>0.919598</td>\n",
              "      <td>0.524590</td>\n",
              "      <td>0.000000</td>\n",
              "      <td>0.000000</td>\n",
              "      <td>0.347243</td>\n",
              "      <td>0.253629</td>\n",
              "      <td>0.183333</td>\n",
              "    </tr>\n",
              "    <tr>\n",
              "      <th>3</th>\n",
              "      <td>0.058824</td>\n",
              "      <td>0.447236</td>\n",
              "      <td>0.540984</td>\n",
              "      <td>0.232323</td>\n",
              "      <td>0.111111</td>\n",
              "      <td>0.418778</td>\n",
              "      <td>0.038002</td>\n",
              "      <td>0.000000</td>\n",
              "    </tr>\n",
              "    <tr>\n",
              "      <th>4</th>\n",
              "      <td>0.000000</td>\n",
              "      <td>0.688442</td>\n",
              "      <td>0.327869</td>\n",
              "      <td>0.353535</td>\n",
              "      <td>0.198582</td>\n",
              "      <td>0.642325</td>\n",
              "      <td>0.943638</td>\n",
              "      <td>0.200000</td>\n",
              "    </tr>\n",
              "  </tbody>\n",
              "</table>\n",
              "</div>"
            ],
            "text/plain": [
              "          0         1         2         3         4         5         6  \\\n",
              "0  0.352941  0.743719  0.590164  0.353535  0.000000  0.500745  0.234415   \n",
              "1  0.058824  0.427136  0.540984  0.292929  0.000000  0.396423  0.116567   \n",
              "2  0.470588  0.919598  0.524590  0.000000  0.000000  0.347243  0.253629   \n",
              "3  0.058824  0.447236  0.540984  0.232323  0.111111  0.418778  0.038002   \n",
              "4  0.000000  0.688442  0.327869  0.353535  0.198582  0.642325  0.943638   \n",
              "\n",
              "          7  \n",
              "0  0.483333  \n",
              "1  0.166667  \n",
              "2  0.183333  \n",
              "3  0.000000  \n",
              "4  0.200000  "
            ]
          },
          "execution_count": 42,
          "metadata": {},
          "output_type": "execute_result"
        }
      ],
      "source": [
        "cols_to_be_scale = [0,1,2,3,4,5,6,7]\n",
        "\n",
        "scaler = preprocessing.MinMaxScaler()\n",
        "\n",
        "X[cols_to_be_scale] = scaler.fit_transform(X[cols_to_be_scale])\n",
        "\n",
        "X.head()"
      ]
    },
    {
      "cell_type": "code",
      "execution_count": 43,
      "metadata": {
        "id": "hATDn3fIIwd9"
      },
      "outputs": [],
      "source": [
        "model = Sequential()\n",
        "model.add(Dense(8, input_shape=(8,), activation='relu'))\n",
        "model.add(Dense(6, activation='relu'))\n",
        "model.add(Dense(1, activation='sigmoid'))"
      ]
    },
    {
      "cell_type": "code",
      "execution_count": 44,
      "metadata": {
        "id": "Fr1sSVccIzu6"
      },
      "outputs": [],
      "source": [
        "model.compile(loss='binary_crossentropy', optimizer='adam', metrics=['accuracy'])"
      ]
    },
    {
      "cell_type": "code",
      "execution_count": 45,
      "metadata": {
        "colab": {
          "base_uri": "https://localhost:8080/"
        },
        "id": "LYbiKzRoI3Qt",
        "outputId": "fcf2375f-c9ef-4452-d9fe-0010d2128b5a"
      },
      "outputs": [
        {
          "name": "stdout",
          "output_type": "stream",
          "text": [
            "Epoch 1/100\n"
          ]
        },
        {
          "name": "stdout",
          "output_type": "stream",
          "text": [
            "39/39 [==============================] - 1s 2ms/step - loss: 0.6589 - accuracy: 0.6510\n",
            "Epoch 2/100\n",
            "39/39 [==============================] - 0s 2ms/step - loss: 0.6475 - accuracy: 0.6510\n",
            "Epoch 3/100\n",
            "39/39 [==============================] - 0s 2ms/step - loss: 0.6411 - accuracy: 0.6510\n",
            "Epoch 4/100\n",
            "39/39 [==============================] - 0s 2ms/step - loss: 0.6345 - accuracy: 0.6510\n",
            "Epoch 5/100\n",
            "39/39 [==============================] - 0s 2ms/step - loss: 0.6275 - accuracy: 0.6510\n",
            "Epoch 6/100\n",
            "39/39 [==============================] - 0s 2ms/step - loss: 0.6211 - accuracy: 0.6510\n",
            "Epoch 7/100\n",
            "39/39 [==============================] - 0s 2ms/step - loss: 0.6156 - accuracy: 0.6510\n",
            "Epoch 8/100\n",
            "39/39 [==============================] - 0s 2ms/step - loss: 0.6109 - accuracy: 0.6510\n",
            "Epoch 9/100\n",
            "39/39 [==============================] - 0s 2ms/step - loss: 0.6062 - accuracy: 0.6510\n",
            "Epoch 10/100\n",
            "39/39 [==============================] - 0s 3ms/step - loss: 0.6024 - accuracy: 0.6510\n",
            "Epoch 11/100\n",
            "39/39 [==============================] - 0s 2ms/step - loss: 0.5983 - accuracy: 0.6510\n",
            "Epoch 12/100\n",
            "39/39 [==============================] - 0s 2ms/step - loss: 0.5942 - accuracy: 0.6510\n",
            "Epoch 13/100\n",
            "39/39 [==============================] - 0s 2ms/step - loss: 0.5895 - accuracy: 0.6510\n",
            "Epoch 14/100\n",
            "39/39 [==============================] - 0s 2ms/step - loss: 0.5830 - accuracy: 0.6497\n",
            "Epoch 15/100\n",
            "39/39 [==============================] - 0s 2ms/step - loss: 0.5736 - accuracy: 0.6680\n",
            "Epoch 16/100\n",
            "39/39 [==============================] - 0s 2ms/step - loss: 0.5665 - accuracy: 0.6927\n",
            "Epoch 17/100\n",
            "39/39 [==============================] - 0s 2ms/step - loss: 0.5590 - accuracy: 0.6966\n",
            "Epoch 18/100\n",
            "39/39 [==============================] - 0s 2ms/step - loss: 0.5535 - accuracy: 0.7122\n",
            "Epoch 19/100\n",
            "39/39 [==============================] - 0s 2ms/step - loss: 0.5474 - accuracy: 0.7174\n",
            "Epoch 20/100\n",
            "39/39 [==============================] - 0s 2ms/step - loss: 0.5427 - accuracy: 0.7214\n",
            "Epoch 21/100\n",
            "39/39 [==============================] - 0s 2ms/step - loss: 0.5376 - accuracy: 0.7305\n",
            "Epoch 22/100\n",
            "39/39 [==============================] - 0s 2ms/step - loss: 0.5323 - accuracy: 0.7318\n",
            "Epoch 23/100\n",
            "39/39 [==============================] - 0s 2ms/step - loss: 0.5281 - accuracy: 0.7331\n",
            "Epoch 24/100\n",
            "39/39 [==============================] - 0s 2ms/step - loss: 0.5244 - accuracy: 0.7318\n",
            "Epoch 25/100\n",
            "39/39 [==============================] - 0s 2ms/step - loss: 0.5187 - accuracy: 0.7396\n",
            "Epoch 26/100\n",
            "39/39 [==============================] - 0s 2ms/step - loss: 0.5156 - accuracy: 0.7383\n",
            "Epoch 27/100\n",
            "39/39 [==============================] - 0s 2ms/step - loss: 0.5113 - accuracy: 0.7461\n",
            "Epoch 28/100\n",
            "39/39 [==============================] - 0s 2ms/step - loss: 0.5078 - accuracy: 0.7435\n",
            "Epoch 29/100\n",
            "39/39 [==============================] - 0s 2ms/step - loss: 0.5036 - accuracy: 0.7578\n",
            "Epoch 30/100\n",
            "39/39 [==============================] - 0s 2ms/step - loss: 0.5011 - accuracy: 0.7552\n",
            "Epoch 31/100\n",
            "39/39 [==============================] - 0s 2ms/step - loss: 0.5001 - accuracy: 0.7708\n",
            "Epoch 32/100\n",
            "39/39 [==============================] - 0s 2ms/step - loss: 0.4954 - accuracy: 0.7656\n",
            "Epoch 33/100\n",
            "39/39 [==============================] - 0s 2ms/step - loss: 0.4907 - accuracy: 0.7695\n",
            "Epoch 34/100\n",
            "39/39 [==============================] - 0s 2ms/step - loss: 0.4889 - accuracy: 0.7708\n",
            "Epoch 35/100\n",
            "39/39 [==============================] - 0s 2ms/step - loss: 0.4856 - accuracy: 0.7721\n",
            "Epoch 36/100\n",
            "39/39 [==============================] - 0s 2ms/step - loss: 0.4863 - accuracy: 0.7669\n",
            "Epoch 37/100\n",
            "39/39 [==============================] - 0s 2ms/step - loss: 0.4830 - accuracy: 0.7773\n",
            "Epoch 38/100\n",
            "39/39 [==============================] - 0s 2ms/step - loss: 0.4796 - accuracy: 0.7747\n",
            "Epoch 39/100\n",
            "39/39 [==============================] - 0s 2ms/step - loss: 0.4782 - accuracy: 0.7773\n",
            "Epoch 40/100\n",
            "39/39 [==============================] - 0s 2ms/step - loss: 0.4787 - accuracy: 0.7695\n",
            "Epoch 41/100\n",
            "39/39 [==============================] - 0s 2ms/step - loss: 0.4741 - accuracy: 0.7760\n",
            "Epoch 42/100\n",
            "39/39 [==============================] - 0s 2ms/step - loss: 0.4723 - accuracy: 0.7786\n",
            "Epoch 43/100\n",
            "39/39 [==============================] - 0s 2ms/step - loss: 0.4701 - accuracy: 0.7708\n",
            "Epoch 44/100\n",
            "39/39 [==============================] - 0s 2ms/step - loss: 0.4699 - accuracy: 0.7695\n",
            "Epoch 45/100\n",
            "39/39 [==============================] - 0s 2ms/step - loss: 0.4680 - accuracy: 0.7799\n",
            "Epoch 46/100\n",
            "39/39 [==============================] - 0s 2ms/step - loss: 0.4669 - accuracy: 0.7773\n",
            "Epoch 47/100\n",
            "39/39 [==============================] - 0s 2ms/step - loss: 0.4644 - accuracy: 0.7812\n",
            "Epoch 48/100\n",
            "39/39 [==============================] - 0s 2ms/step - loss: 0.4642 - accuracy: 0.7786\n",
            "Epoch 49/100\n",
            "39/39 [==============================] - 0s 2ms/step - loss: 0.4617 - accuracy: 0.7747\n",
            "Epoch 50/100\n",
            "39/39 [==============================] - 0s 2ms/step - loss: 0.4622 - accuracy: 0.7826\n",
            "Epoch 51/100\n",
            "39/39 [==============================] - 0s 2ms/step - loss: 0.4597 - accuracy: 0.7747\n",
            "Epoch 52/100\n",
            "39/39 [==============================] - 0s 2ms/step - loss: 0.4594 - accuracy: 0.7799\n",
            "Epoch 53/100\n",
            "39/39 [==============================] - 0s 2ms/step - loss: 0.4583 - accuracy: 0.7773\n",
            "Epoch 54/100\n",
            "39/39 [==============================] - 0s 2ms/step - loss: 0.4565 - accuracy: 0.7799\n",
            "Epoch 55/100\n",
            "39/39 [==============================] - 0s 2ms/step - loss: 0.4557 - accuracy: 0.7865\n",
            "Epoch 56/100\n",
            "39/39 [==============================] - 0s 2ms/step - loss: 0.4561 - accuracy: 0.7826\n",
            "Epoch 57/100\n",
            "39/39 [==============================] - 0s 2ms/step - loss: 0.4555 - accuracy: 0.7812\n",
            "Epoch 58/100\n",
            "39/39 [==============================] - 0s 2ms/step - loss: 0.4563 - accuracy: 0.7826\n",
            "Epoch 59/100\n",
            "39/39 [==============================] - 0s 2ms/step - loss: 0.4552 - accuracy: 0.7839\n",
            "Epoch 60/100\n",
            "39/39 [==============================] - 0s 2ms/step - loss: 0.4518 - accuracy: 0.7865\n",
            "Epoch 61/100\n",
            "39/39 [==============================] - 0s 2ms/step - loss: 0.4559 - accuracy: 0.7786\n",
            "Epoch 62/100\n",
            "39/39 [==============================] - 0s 2ms/step - loss: 0.4523 - accuracy: 0.7812\n",
            "Epoch 63/100\n",
            "39/39 [==============================] - 0s 2ms/step - loss: 0.4504 - accuracy: 0.7865\n",
            "Epoch 64/100\n",
            "39/39 [==============================] - 0s 2ms/step - loss: 0.4535 - accuracy: 0.7839\n",
            "Epoch 65/100\n",
            "39/39 [==============================] - 0s 2ms/step - loss: 0.4494 - accuracy: 0.7826\n",
            "Epoch 66/100\n",
            "39/39 [==============================] - 0s 2ms/step - loss: 0.4497 - accuracy: 0.7852\n",
            "Epoch 67/100\n",
            "39/39 [==============================] - 0s 2ms/step - loss: 0.4491 - accuracy: 0.7891\n",
            "Epoch 68/100\n",
            "39/39 [==============================] - 0s 2ms/step - loss: 0.4486 - accuracy: 0.7839\n",
            "Epoch 69/100\n",
            "39/39 [==============================] - 0s 2ms/step - loss: 0.4475 - accuracy: 0.7865\n",
            "Epoch 70/100\n",
            "39/39 [==============================] - 0s 2ms/step - loss: 0.4499 - accuracy: 0.7891\n",
            "Epoch 71/100\n",
            "39/39 [==============================] - 0s 3ms/step - loss: 0.4462 - accuracy: 0.7930\n",
            "Epoch 72/100\n",
            "39/39 [==============================] - 0s 2ms/step - loss: 0.4463 - accuracy: 0.7930\n",
            "Epoch 73/100\n",
            "39/39 [==============================] - 0s 2ms/step - loss: 0.4467 - accuracy: 0.7891\n",
            "Epoch 74/100\n",
            "39/39 [==============================] - 0s 2ms/step - loss: 0.4459 - accuracy: 0.7891\n",
            "Epoch 75/100\n",
            "39/39 [==============================] - 0s 3ms/step - loss: 0.4435 - accuracy: 0.7943\n",
            "Epoch 76/100\n",
            "39/39 [==============================] - 0s 2ms/step - loss: 0.4464 - accuracy: 0.7865\n",
            "Epoch 77/100\n",
            "39/39 [==============================] - 0s 2ms/step - loss: 0.4439 - accuracy: 0.7943\n",
            "Epoch 78/100\n",
            "39/39 [==============================] - 0s 2ms/step - loss: 0.4451 - accuracy: 0.7943\n",
            "Epoch 79/100\n",
            "39/39 [==============================] - 0s 2ms/step - loss: 0.4430 - accuracy: 0.7943\n",
            "Epoch 80/100\n",
            "39/39 [==============================] - 0s 2ms/step - loss: 0.4519 - accuracy: 0.7708\n",
            "Epoch 81/100\n",
            "39/39 [==============================] - 0s 2ms/step - loss: 0.4439 - accuracy: 0.7930\n",
            "Epoch 82/100\n",
            "39/39 [==============================] - 0s 2ms/step - loss: 0.4440 - accuracy: 0.7930\n",
            "Epoch 83/100\n",
            "39/39 [==============================] - 0s 2ms/step - loss: 0.4436 - accuracy: 0.7930\n",
            "Epoch 84/100\n",
            "39/39 [==============================] - 0s 2ms/step - loss: 0.4425 - accuracy: 0.7969\n",
            "Epoch 85/100\n",
            "39/39 [==============================] - 0s 2ms/step - loss: 0.4427 - accuracy: 0.7917\n",
            "Epoch 86/100\n",
            "39/39 [==============================] - 0s 2ms/step - loss: 0.4416 - accuracy: 0.7930\n",
            "Epoch 87/100\n",
            "39/39 [==============================] - 0s 2ms/step - loss: 0.4440 - accuracy: 0.7956\n",
            "Epoch 88/100\n",
            "39/39 [==============================] - 0s 2ms/step - loss: 0.4421 - accuracy: 0.7865\n",
            "Epoch 89/100\n",
            "39/39 [==============================] - 0s 3ms/step - loss: 0.4421 - accuracy: 0.7917\n",
            "Epoch 90/100\n",
            "39/39 [==============================] - 0s 3ms/step - loss: 0.4410 - accuracy: 0.7930\n",
            "Epoch 91/100\n",
            "39/39 [==============================] - 0s 3ms/step - loss: 0.4434 - accuracy: 0.7943\n",
            "Epoch 92/100\n",
            "39/39 [==============================] - 0s 3ms/step - loss: 0.4399 - accuracy: 0.7930\n",
            "Epoch 93/100\n",
            "39/39 [==============================] - 0s 3ms/step - loss: 0.4412 - accuracy: 0.7930\n",
            "Epoch 94/100\n",
            "39/39 [==============================] - 0s 3ms/step - loss: 0.4425 - accuracy: 0.7878\n",
            "Epoch 95/100\n",
            "39/39 [==============================] - 0s 3ms/step - loss: 0.4390 - accuracy: 0.7956\n",
            "Epoch 96/100\n",
            "39/39 [==============================] - 0s 4ms/step - loss: 0.4397 - accuracy: 0.7943\n",
            "Epoch 97/100\n",
            "39/39 [==============================] - 0s 3ms/step - loss: 0.4399 - accuracy: 0.7969\n",
            "Epoch 98/100\n",
            "39/39 [==============================] - 0s 3ms/step - loss: 0.4388 - accuracy: 0.7943\n",
            "Epoch 99/100\n",
            "39/39 [==============================] - 0s 3ms/step - loss: 0.4364 - accuracy: 0.7956\n",
            "Epoch 100/100\n",
            "39/39 [==============================] - 0s 3ms/step - loss: 0.4415 - accuracy: 0.8073\n"
          ]
        },
        {
          "data": {
            "text/plain": [
              "<keras.src.callbacks.History at 0x2ad52c617d0>"
            ]
          },
          "execution_count": 45,
          "metadata": {},
          "output_type": "execute_result"
        }
      ],
      "source": [
        "model.fit(X, y, epochs=100, batch_size=20)"
      ]
    },
    {
      "cell_type": "code",
      "execution_count": 46,
      "metadata": {
        "colab": {
          "base_uri": "https://localhost:8080/"
        },
        "id": "L27Ye0bMI6e7",
        "outputId": "a661a6fb-5027-4c3a-f34c-3d346577c857"
      },
      "outputs": [
        {
          "name": "stdout",
          "output_type": "stream",
          "text": [
            "24/24 [==============================] - 0s 2ms/step - loss: 0.4373 - accuracy: 0.7982\n",
            "Accuracy: 79.82\n"
          ]
        }
      ],
      "source": [
        "_, accuracy = model.evaluate(X, y)\n",
        "print('Accuracy: %.2f' % (accuracy*100))"
      ]
    },
    {
      "cell_type": "code",
      "execution_count": 47,
      "metadata": {
        "colab": {
          "base_uri": "https://localhost:8080/"
        },
        "id": "5FiPJ7htJCIV",
        "outputId": "3228749b-fc63-4aa8-df68-2ecc8d4779a4"
      },
      "outputs": [
        {
          "name": "stdout",
          "output_type": "stream",
          "text": [
            "24/24 [==============================] - 0s 2ms/step\n",
            " 1 (expected 1)\n",
            " 0 (expected 0)\n",
            " 1 (expected 1)\n",
            " 0 (expected 0)\n",
            " 1 (expected 1)\n"
          ]
        },
        {
          "name": "stderr",
          "output_type": "stream",
          "text": [
            "C:\\Users\\zkarn\\AppData\\Local\\Temp\\ipykernel_20740\\2915458598.py:3: DeprecationWarning: Conversion of an array with ndim > 0 to a scalar is deprecated, and will error in future. Ensure you extract a single element from your array before performing this operation. (Deprecated NumPy 1.25.)\n",
            "  print(' %d (expected %d)' % ( predictions[i], y[i]))\n"
          ]
        }
      ],
      "source": [
        "predictions = (model.predict(X) > 0.5).astype(int)\n",
        "for i in range(5):\n",
        "\tprint(' %d (expected %d)' % ( predictions[i], y[i]))"
      ]
    }
  ],
  "metadata": {
    "colab": {
      "provenance": []
    },
    "kernelspec": {
      "display_name": "Python 3",
      "name": "python3"
    },
    "language_info": {
      "codemirror_mode": {
        "name": "ipython",
        "version": 3
      },
      "file_extension": ".py",
      "mimetype": "text/x-python",
      "name": "python",
      "nbconvert_exporter": "python",
      "pygments_lexer": "ipython3",
      "version": "3.11.5"
    }
  },
  "nbformat": 4,
  "nbformat_minor": 0
}
